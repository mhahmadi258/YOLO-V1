{
  "cells": [
    {
      "cell_type": "code",
      "execution_count": 1,
      "metadata": {
        "id": "x9i_bmsC4xNR"
      },
      "outputs": [],
      "source": [
        "import numpy as np\n",
        "import cv2\n",
        "import matplotlib.pyplot as plt\n",
        "import tensorflow as tf\n",
        "from tensorflow import keras\n",
        "from tensorflow.keras.layers import Input, Conv2D, MaxPool2D,Flatten, Dense, Reshape, Concatenate\n",
        "from tensorflow.keras.activations import sigmoid, softmax\n",
        "from tensorflow.keras.models import Model\n",
        "from tensorflow.keras.optimizers import Adam\n",
        "import keras.backend as K"
      ]
    },
    {
      "cell_type": "code",
      "execution_count": null,
      "metadata": {
        "colab": {
          "base_uri": "https://localhost:8080/"
        },
        "id": "g9TDflnnPUVV",
        "outputId": "f0f424c1-cd48-4ef2-f555-356318a99fdd"
      },
      "outputs": [],
      "source": [
        "!wget http://host.robots.ox.ac.uk/pascal/VOC/voc2007/VOCtrainval_06-Nov-2007.tar\n",
        "!wget http://host.robots.ox.ac.uk/pascal/VOC/voc2007/VOCtest_06-Nov-2007.tar\n",
        "\n",
        "!tar xvf VOCtrainval_06-Nov-2007.tar\n",
        "!tar xvf VOCtest_06-Nov-2007.tar\n",
        "\n",
        "!rm VOCtrainval_06-Nov-2007.tar\n",
        "!rm VOCtest_06-Nov-2007.tar\n",
        "\n",
        "!rm -r /content/VOCdevkit/VOC2007/Annotations\n",
        "!rm -r /content/VOCdevkit/VOC2007/ImageSets\n",
        "!rm -r /content/VOCdevkit/VOC2007/SegmentationClass/\n",
        "!rm -r /content/VOCdevkit/VOC2007/SegmentationObject\n",
        "\n",
        "!gdown --id 1ZU2cim1iw-o3SWtf2XLxYOGJQv6GRC-v\n",
        "!gdown --id 1HLhuo0Gw3fE_l320AwYYDcUVu9_jDQCq\n",
        "!gdown --id 10ZYfoqBziUxvS4yBtJtUrxXEYxZFnZMk"
      ]
    },
    {
      "cell_type": "code",
      "execution_count": 3,
      "metadata": {
        "id": "PG0C5b2qbZ4-"
      },
      "outputs": [],
      "source": [
        "def read(image_path, label):\n",
        "    image = cv2.imread(image_path)\n",
        "    image_h, image_w = image.shape[:2]\n",
        "    image = cv2.resize(image,(448,448))\n",
        "    image = image / 255 # Normalization\n",
        "\n",
        "    label_matrix = np.zeros((7,7,30))\n",
        "    for l in label:\n",
        "        l=l.split(',')\n",
        "        xmin = int(l[0])\n",
        "        ymin = int(l[1])\n",
        "        xmax = int(l[2])\n",
        "        ymax = int(l[3])\n",
        "        c = int(l[4])\n",
        "        x = (xmin + xmax) / 2 / image_w\n",
        "        y = (ymin + ymax) / 2 / image_h\n",
        "        w = (xmax - xmin) / image_w\n",
        "        h = (ymax - ymin) / image_h\n",
        "        loc = [7*x,7*y]\n",
        "        loc_i = int(loc[1])\n",
        "        loc_j = int(loc[0])\n",
        "        y = loc[1] - loc_i\n",
        "        x = loc[0] - loc_j\n",
        "\n",
        "        if label_matrix[loc_i, loc_j,24] == 0:\n",
        "            label_matrix[loc_i, loc_j, c] = 1\n",
        "            label_matrix[loc_i, loc_j, 20:22] = 1\n",
        "            label_matrix[loc_i, loc_j, 22:26] = [x, y, w, h]\n",
        "            label_matrix[loc_i, loc_j, 26:30] = [x, y, w, h]\n",
        "            \n",
        "\n",
        "    return image, label_matrix "
      ]
    },
    {
      "cell_type": "code",
      "execution_count": 4,
      "metadata": {
        "id": "M3NXChbo4Yry"
      },
      "outputs": [],
      "source": [
        "class My_Genrator(keras.utils.Sequence):\n",
        "    def __init__(self, images, labels, batch_size):\n",
        "        self.images = images\n",
        "        self.labels = labels\n",
        "        self.batch_size = batch_size\n",
        "\n",
        "    def __len__(self):\n",
        "        return (np.ceil(len(self.images) / float(self.batch_size))).astype(np.int)\n",
        "    \n",
        "    def __getitem__(self, idx):\n",
        "        batch_x = self.images[idx * self.batch_size : (idx + 1)* self.batch_size]\n",
        "        batch_y = self.labels[idx * self.batch_size : (idx + 1)* self.batch_size]\n",
        "\n",
        "        train_image = []\n",
        "        train_label = []\n",
        "\n",
        "        for i in range(0,len(batch_x)):\n",
        "            img_path = batch_x[i]\n",
        "            label = batch_y[i]\n",
        "            image, label_matrix = read(img_path, label)\n",
        "            train_image.append(image)\n",
        "            train_label.append(label_matrix)\n",
        "        return np.array(train_image), np.array(train_label)"
      ]
    },
    {
      "cell_type": "code",
      "execution_count": 5,
      "metadata": {
        "id": "AcyPdjx2_MKx"
      },
      "outputs": [],
      "source": [
        "X_train = list()\n",
        "Y_train = list()\n",
        "with open('2007_train.txt') as f:\n",
        "    for line in f.readlines():\n",
        "        line_arr = line.strip().split(' ')\n",
        "        X_train.append(line_arr[0])\n",
        "        Y_train.append(line_arr[1:])"
      ]
    },
    {
      "cell_type": "code",
      "execution_count": 6,
      "metadata": {
        "id": "rSVMOIqnzt78"
      },
      "outputs": [],
      "source": [
        "X_val = list()\n",
        "Y_val = list()\n",
        "with open('2007_val.txt') as f:\n",
        "    for line in f.readlines():\n",
        "        line_arr = line.strip().split(' ')\n",
        "        X_val.append(line_arr[0])\n",
        "        Y_val.append(line_arr[1:])"
      ]
    },
    {
      "cell_type": "code",
      "execution_count": null,
      "metadata": {
        "colab": {
          "base_uri": "https://localhost:8080/"
        },
        "id": "ZreA8n0F3QOt",
        "outputId": "2526d6bf-bd8d-453e-ccd8-127890fc1dd7"
      },
      "outputs": [],
      "source": [
        "batch_size = 32\n",
        "train_generator = My_Genrator(X_train, Y_train, batch_size)\n",
        "val_generator = My_Genrator(X_val, Y_val, batch_size)\n",
        "x_train, y_train = train_generator.__getitem__(0)\n",
        "\n",
        "print(x_train.shape)\n",
        "print(y_train.shape)"
      ]
    },
    {
      "cell_type": "code",
      "execution_count": 8,
      "metadata": {
        "id": "bqjpvrNTIofA"
      },
      "outputs": [],
      "source": [
        "class Yolo_Reshape(tf.keras.layers.Layer):\n",
        "    def __init__(self, target_shape):\n",
        "        super(Yolo_Reshape, self).__init__()\n",
        "        self.target_shape = tuple(target_shape)\n",
        "\n",
        "\n",
        "    def call(self, input):\n",
        "        # grids 7x7\n",
        "        S = [self.target_shape[0], self.target_shape[1]]\n",
        "        # classes\n",
        "        C = 20\n",
        "        # num of bounding boxes per grid\n",
        "        B = 2\n",
        "\n",
        "        idx1 = S[0] * S[1] * C\n",
        "        idx2 = idx1 + S[0] * S[1] * B\n",
        "\n",
        "        # class probabilities\n",
        "        class_probs = K.reshape(input[:, :idx1], (K.shape(input)[0],) + tuple([S[0], S[1], C]))\n",
        "        class_probs = K.softmax(class_probs)\n",
        "\n",
        "        #confidence\n",
        "        confs = K.reshape(input[:, idx1:idx2], (K.shape(input)[0],) + tuple([S[0], S[1], B]))\n",
        "        confs = K.sigmoid(confs)\n",
        "\n",
        "        # boxes\n",
        "        boxes = K.reshape(input[:, idx2:], (K.shape(input)[0],) + tuple([S[0], S[1], B * 4]))\n",
        "        boxes = K.sigmoid(boxes)\n",
        "\n",
        "        outputs = K.concatenate([class_probs, confs, boxes])\n",
        "        return outputs"
      ]
    },
    {
      "cell_type": "code",
      "execution_count": null,
      "metadata": {
        "colab": {
          "base_uri": "https://localhost:8080/"
        },
        "id": "x_PGMlkH6Mhz",
        "outputId": "eeaddd9c-c019-4fa0-d574-c1671462d02d"
      },
      "outputs": [],
      "source": [
        "inputs = Input(shape=(448,448,3))\n",
        "\n",
        "x = Conv2D(64,7,2,padding='same',activation='relu')(inputs)\n",
        "x = MaxPool2D()(x)\n",
        "\n",
        "x = Conv2D(192,3,1,padding='same',activation='relu')(x)\n",
        "x = MaxPool2D()(x)\n",
        "\n",
        "x = Conv2D(128,1,1,padding='same',activation='relu')(x)\n",
        "x = Conv2D(256,3,1,padding='same',activation='relu')(x)\n",
        "x = Conv2D(256,1,1,padding='same',activation='relu')(x)\n",
        "x = Conv2D(512,3,1,padding='same',activation='relu')(x)\n",
        "x = MaxPool2D()(x)\n",
        "\n",
        "x = Conv2D(256,1,1,padding='same',activation='relu')(x)\n",
        "x = Conv2D(512,3,1,padding='same',activation='relu')(x)\n",
        "x = Conv2D(256,1,1,padding='same',activation='relu')(x)\n",
        "x = Conv2D(512,3,1,padding='same',activation='relu')(x)\n",
        "x = Conv2D(256,1,1,padding='same',activation='relu')(x)\n",
        "x = Conv2D(512,3,1,padding='same',activation='relu')(x)\n",
        "x = Conv2D(256,1,1,padding='same',activation='relu')(x)\n",
        "x = Conv2D(512,3,1,padding='same',activation='relu')(x)\n",
        "x = Conv2D(512,1,1,padding='same',activation='relu')(x)\n",
        "x = Conv2D(1024,3,1,padding='same',activation='relu')(x)\n",
        "x = MaxPool2D()(x)\n",
        "\n",
        "x = Conv2D(512,1,1,padding='same',activation='relu')(x)\n",
        "x = Conv2D(1024,3,1,padding='same',activation='relu')(x)\n",
        "x = Conv2D(512,1,1,padding='same',activation='relu')(x)\n",
        "x = Conv2D(1024,3,1,padding='same',activation='relu')(x)\n",
        "x = Conv2D(1024,3,1,padding='same',activation='relu')(x)\n",
        "x = Conv2D(1024,3,2,padding='same',activation='relu')(x)\n",
        "\n",
        "x = Conv2D(1024,3,1,activation='relu')(x)\n",
        "x = Conv2D(1024,3,1,activation='relu')(x)\n",
        "\n",
        "x = Flatten()(x)\n",
        "\n",
        "x = Dense(512,activation='relu')(x)\n",
        "x = Dense(1024,activation='relu')(x)\n",
        "\n",
        "x = Dense(1470,activation='sigmoid')(x)\n",
        "\n",
        "outputs = Yolo_Reshape((7,7,30))(x)\n",
        "\n",
        "model = Model(inputs,outputs)\n",
        "model.summary()"
      ]
    },
    {
      "cell_type": "code",
      "execution_count": 10,
      "metadata": {
        "id": "9L616a1aDnVb"
      },
      "outputs": [],
      "source": [
        "def yolo_loss(y_true,y_pred):\n",
        "    true_class = y_true[...,:20]\n",
        "    true_trust = y_true[...,20:22]\n",
        "    true_box = y_true[...,22:30]\n",
        "\n",
        "    pred_class = y_pred[...,:20]\n",
        "    pred_trust = y_pred[...,20:22]\n",
        "    pred_box = y_pred[...,22:30]\n",
        "\n",
        "    mse = tf.keras.losses.MeanSquaredError()\n",
        "    ce = tf.keras.losses.CategoricalCrossentropy()\n",
        "    bce = tf.keras.losses.BinaryCrossentropy()\n",
        "\n",
        "    class_loss = mse(true_class,pred_class)\n",
        "    trust_loss = ce(true_trust,pred_trust)\n",
        "    box_loss = bce(true_box,pred_box)\n",
        "\n",
        "    return class_loss + trust_loss + box_loss\n"
      ]
    },
    {
      "cell_type": "code",
      "execution_count": 11,
      "metadata": {
        "id": "s0RzH61RCy-4"
      },
      "outputs": [],
      "source": [
        "model.compile(optimizer=Adam(0.001),loss=yolo_loss)"
      ]
    },
    {
      "cell_type": "code",
      "execution_count": null,
      "metadata": {
        "colab": {
          "base_uri": "https://localhost:8080/"
        },
        "id": "LwXg4GcSJtqY",
        "outputId": "7f65b788-d900-42b5-e138-fb560877d894"
      },
      "outputs": [],
      "source": [
        "history = model.fit(x=train_generator,batch_size=32,epochs=5,validation_data=val_generator)"
      ]
    }
  ],
  "metadata": {
    "accelerator": "GPU",
    "colab": {
      "collapsed_sections": [],
      "name": "main.ipynb",
      "provenance": []
    },
    "kernelspec": {
      "display_name": "Python 3.10.5 64-bit",
      "language": "python",
      "name": "python3"
    },
    "language_info": {
      "name": "python",
      "version": "3.10.5"
    },
    "vscode": {
      "interpreter": {
        "hash": "01764b6a9c61fdd9de689a8d7b6d176509d531e5b1300b6ad11b43ee1cfac86e"
      }
    }
  },
  "nbformat": 4,
  "nbformat_minor": 0
}
